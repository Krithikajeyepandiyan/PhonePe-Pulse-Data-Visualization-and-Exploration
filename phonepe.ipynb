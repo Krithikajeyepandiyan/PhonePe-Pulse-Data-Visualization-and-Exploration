{
 "cells": [
  {
   "cell_type": "code",
   "execution_count": 3,
   "metadata": {},
   "outputs": [],
   "source": [
    "import os\n",
    "import json\n",
    "import pandas as pd\n",
    "import psycopg2"
   ]
  },
  {
   "cell_type": "markdown",
   "metadata": {},
   "source": [
    "Aggregate Ins"
   ]
  },
  {
   "cell_type": "code",
   "execution_count": 20,
   "metadata": {},
   "outputs": [],
   "source": [
    "# insurance file\n",
    "ins_path='C:/Users/Krithika J/OneDrive/Tài liệu/ds proj/youtube_proj/Phonepe_Proj/pulse/data/aggregated/insurance/country/india/state/'\n",
    "\n",
    "agg_ins_list=os.listdir(ins_path)\n",
    "\n",
    "col={'States':[],'Year':[],'Quarter':[],'Insurance_Method':[],'Insurance_Count':[],'Insurance_Amount':[]   }\n",
    "\n",
    "for states in agg_ins_list:\n",
    "    curr_state=ins_path+states+'/'\n",
    "    agg_state_list= os.listdir(curr_state)\n",
    "\n",
    "    for year in agg_state_list:\n",
    "        curr_year=curr_state+year+'/'\n",
    "        agg_year_list=os.listdir(curr_year)\n",
    "\n",
    "        for file in agg_year_list:\n",
    "            curr_file=curr_year+ file\n",
    "            data=open(curr_file,'r')\n",
    "\n",
    "            Agg1=json.load(data)\n",
    "\n",
    "            for i in Agg1['data']['transactionData']:\n",
    "                method=i['name']\n",
    "                count=i['paymentInstruments'][0]['count']\n",
    "                amount=i['paymentInstruments'][0]['amount']\n",
    "                col['Insurance_Method'].append(method)\n",
    "                col['Insurance_Count'].append(count)\n",
    "                col['Insurance_Amount'].append(amount)\n",
    "                col['States'].append(states)\n",
    "                col['Year'].append(year)\n",
    "                col['Quarter'].append(int(file.strip('.json')))\n",
    "            Agg_ins=pd.DataFrame(col)\n",
    "\n",
    "            Agg_ins['States']= Agg_ins['States'].str.replace('andaman-&-nicobar-islands','Andaman & Nicobar')\n",
    "            Agg_ins['States']=Agg_ins['States'].str.replace('-', ' ')\n",
    "            Agg_ins['States']=Agg_ins['States'].str.title()\n",
    "            Agg_ins['States']=Agg_ins['States'].str.replace('Dadra & Nagar Haveli & Daman & Diu','Dadra and Nagar Haveli and Daman & Diu')\n",
    "           "
   ]
  },
  {
   "cell_type": "code",
   "execution_count": 21,
   "metadata": {},
   "outputs": [
    {
     "data": {
      "text/plain": [
       "array(['Andaman & Nicobar', 'Andhra Pradesh', 'Arunachal Pradesh',\n",
       "       'Assam', 'Bihar', 'Chandigarh', 'Chhattisgarh',\n",
       "       'Dadra and Nagar Haveli and Daman & Diu', 'Delhi', 'Goa',\n",
       "       'Gujarat', 'Haryana', 'Himachal Pradesh', 'Jammu & Kashmir',\n",
       "       'Jharkhand', 'Karnataka', 'Kerala', 'Ladakh', 'Lakshadweep',\n",
       "       'Madhya Pradesh', 'Maharashtra', 'Manipur', 'Meghalaya', 'Mizoram',\n",
       "       'Nagaland', 'Odisha', 'Puducherry', 'Punjab', 'Rajasthan',\n",
       "       'Sikkim', 'Tamil Nadu', 'Telangana', 'Tripura', 'Uttar Pradesh',\n",
       "       'Uttarakhand', 'West Bengal'], dtype=object)"
      ]
     },
     "execution_count": 21,
     "metadata": {},
     "output_type": "execute_result"
    }
   ],
   "source": [
    "Agg_ins['States'].unique()"
   ]
  },
  {
   "cell_type": "markdown",
   "metadata": {},
   "source": [
    "Aggregate Trans"
   ]
  },
  {
   "cell_type": "code",
   "execution_count": 50,
   "metadata": {},
   "outputs": [],
   "source": [
    "#Aggreate file\n",
    "\n",
    "trans_path='C:/Users/Krithika J/OneDrive/Tài liệu/ds proj/youtube_proj/Phonepe_Proj/pulse/data/aggregated/transaction/country/india/state/'\n",
    "\n",
    "agg_trans_list=os.listdir(trans_path)\n",
    "\n",
    "col1={'States':[],'Year':[],'Quarter':[],'Transaction_Method':[],'Transaction_Count':[],'Transaction_Amount':[]   }\n",
    "\n",
    "for states in agg_trans_list:\n",
    "    curr_state=trans_path+states+'/'\n",
    "    agg_state_list=os.listdir(curr_state)\n",
    "\n",
    "    for year in agg_state_list:\n",
    "        curr_year= curr_state+ year+'/'\n",
    "        agg_year_list=os.listdir(curr_year)\n",
    "\n",
    "        for file in agg_year_list:\n",
    "            curr_file= curr_year+file\n",
    "            data=open(curr_file,'r')\n",
    "\n",
    "            Agg2=json.load(data)\n",
    "\n",
    "            for i in Agg2['data']['transactionData']:\n",
    "                method=i['name']\n",
    "                count=i['paymentInstruments'][0]['count']\n",
    "                amount=i['paymentInstruments'][0]['amount']\n",
    "                col1['Transaction_Method'].append(method)\n",
    "                col1['Transaction_Count'].append(count)\n",
    "                col1['Transaction_Amount'].append(amount)\n",
    "                col1['States'].append(states)\n",
    "                col1['Year'].append(year)\n",
    "                col1['Quarter'].append(int(file.strip('.json')))\n",
    "                \n",
    "            Agg_trans=pd.DataFrame(col1)\n",
    "\n",
    "            Agg_trans['States']= Agg_trans['States'].str.replace('andaman-&-nicobar-islands','Andaman & Nicobar')\n",
    "            Agg_trans['States']=Agg_trans['States'].str.replace('-', ' ')\n",
    "            Agg_trans['States']=Agg_trans['States'].str.title()\n",
    "            Agg_trans['States']=Agg_trans['States'].str.replace('Dadra & Nagar Haveli & Daman & Diu','Dadra and Nagar Haveli and Daman & Diu')\n",
    "            Agg_trans['Transaction_Amount']=Agg_trans['Transaction_Amount'].round()\n",
    "            Agg_trans['Year']=Agg_trans['Year'].astype(int)\n"
   ]
  },
  {
   "cell_type": "code",
   "execution_count": 51,
   "metadata": {},
   "outputs": [
    {
     "data": {
      "text/plain": [
       "array([2018, 2019, 2020, 2021, 2022, 2023])"
      ]
     },
     "execution_count": 51,
     "metadata": {},
     "output_type": "execute_result"
    }
   ],
   "source": [
    "Agg_trans['Year'].unique()"
   ]
  },
  {
   "cell_type": "markdown",
   "metadata": {},
   "source": [
    "Aggregate user"
   ]
  },
  {
   "cell_type": "code",
   "execution_count": 26,
   "metadata": {},
   "outputs": [],
   "source": [
    "# user file\n",
    "\n",
    "user_path='C:/Users/Krithika J/OneDrive/Tài liệu/ds proj/youtube_proj/Phonepe_Proj/pulse/data/aggregated/user/country/india/state/'\n",
    "\n",
    "agg_user_list=os.listdir(user_path)\n",
    "\n",
    "col2= {'States':[],'Year':[],'Quarter':[],'Brands':[],'User_Count':[],'Percentage':[]   }\n",
    "\n",
    "for states in agg_user_list:\n",
    "    curr_state=user_path+states+'/'\n",
    "    agg_state_list=os.listdir(curr_state)\n",
    "\n",
    "    for year in agg_state_list:\n",
    "        curr_year=curr_state+year+'/'\n",
    "        agg_year_list=os.listdir(curr_year)\n",
    "\n",
    "        for file in agg_year_list:\n",
    "            curr_file=curr_year+file\n",
    "            data=open(curr_file,'r')\n",
    "\n",
    "            Agg3=json.load(data)\n",
    "\n",
    "            try:\n",
    "\n",
    "                for i in Agg3['data']['usersByDevice']:\n",
    "                    brands=i['brand']\n",
    "                    count=i['count']\n",
    "                    percentage=i['percentage']\n",
    "                    col2['Brands'].append(brands)\n",
    "                    col2['User_Count'].append(count)\n",
    "                    col2['Percentage'].append(percentage)\n",
    "                    col2['States'].append(states)\n",
    "                    col2['Year'].append(year)\n",
    "                    col2['Quarter'].append(int(file.strip('.json')))\n",
    "            except:\n",
    "                pass\n",
    "            Agg_user=pd.DataFrame(col2)\n",
    "\n",
    "            Agg_user['States']= Agg_user['States'].str.replace('andaman-&-nicobar-islands','Andaman & Nicobar')\n",
    "            Agg_user['States']=Agg_user['States'].str.replace('-', ' ')\n",
    "            Agg_user['States']=Agg_user['States'].str.title()\n",
    "            Agg_user['States']=Agg_user['States'].str.replace('Dadra & Nagar Haveli & Daman & Diu','Dadra and Nagar Haveli and Daman & Diu')\n",
    "\n",
    "            "
   ]
  },
  {
   "cell_type": "code",
   "execution_count": 28,
   "metadata": {},
   "outputs": [
    {
     "data": {
      "text/plain": [
       "array(['Andaman & Nicobar', 'Andhra Pradesh', 'Arunachal Pradesh',\n",
       "       'Assam', 'Bihar', 'Chandigarh', 'Chhattisgarh',\n",
       "       'Dadra and Nagar Haveli and Daman & Diu', 'Delhi', 'Goa',\n",
       "       'Gujarat', 'Haryana', 'Himachal Pradesh', 'Jammu & Kashmir',\n",
       "       'Jharkhand', 'Karnataka', 'Kerala', 'Ladakh', 'Lakshadweep',\n",
       "       'Madhya Pradesh', 'Maharashtra', 'Manipur', 'Meghalaya', 'Mizoram',\n",
       "       'Nagaland', 'Odisha', 'Puducherry', 'Punjab', 'Rajasthan',\n",
       "       'Sikkim', 'Tamil Nadu', 'Telangana', 'Tripura', 'Uttar Pradesh',\n",
       "       'Uttarakhand', 'West Bengal'], dtype=object)"
      ]
     },
     "execution_count": 28,
     "metadata": {},
     "output_type": "execute_result"
    }
   ],
   "source": [
    "Agg_user['States'].unique()"
   ]
  },
  {
   "cell_type": "markdown",
   "metadata": {},
   "source": [
    "Map Ins"
   ]
  },
  {
   "cell_type": "code",
   "execution_count": 27,
   "metadata": {},
   "outputs": [],
   "source": [
    "# map ins file\n",
    "\n",
    "map_ins_path='C:/Users/Krithika J/OneDrive/Tài liệu/ds proj/youtube_proj/Phonepe_Proj/pulse/data/map/insurance/hover/country/india/state/'\n",
    "\n",
    "map_ins_list=os.listdir(map_ins_path)\n",
    "\n",
    "col_map_1={'States':[],'Year':[],'Quarter':[],'District':[],'Insurance_Count':[],'Insurance_Amount':[]   }\n",
    "\n",
    "for states in map_ins_list:\n",
    "    curr_state=map_ins_path+states+'/'\n",
    "    map_state_list=os.listdir(curr_state)\n",
    "\n",
    "    for year in map_state_list:\n",
    "        curr_year=curr_state+year+'/'\n",
    "        map_year_list=os.listdir(curr_year)\n",
    "\n",
    "        for file in map_year_list:\n",
    "            curr_file=curr_year+file\n",
    "            data=open(curr_file,'r')\n",
    "\n",
    "            Map1=json.load(data)\n",
    "\n",
    "            for i in Map1['data']['hoverDataList']:\n",
    "                name=i['name']\n",
    "                count = i[\"metric\"][0][\"count\"]\n",
    "                amount = i[\"metric\"][0][\"amount\"]\n",
    "                col_map_1[\"District\"].append(name)\n",
    "                col_map_1[\"Insurance_Count\"].append(count)\n",
    "                col_map_1[\"Insurance_Amount\"].append(amount)\n",
    "                col_map_1[\"States\"].append(states)\n",
    "                col_map_1[\"Year\"].append(year)\n",
    "                col_map_1[\"Quarter\"].append(int(file.strip(\".json\")))\n",
    "\n",
    "            Map_ins=pd.DataFrame(col_map_1)\n",
    "\n",
    "            Map_ins['States']= Map_ins['States'].str.replace('andaman-&-nicobar-islands','Andaman & Nicobar')\n",
    "            Map_ins['States']=Map_ins['States'].str.replace('-', ' ')\n",
    "            Map_ins['States']=Map_ins['States'].str.title()\n",
    "            Map_ins['States']=Map_ins['States'].str.replace('Dadra & Nagar Haveli & Daman & Diu','Dadra and Nagar Haveli and Daman & Diu')\n"
   ]
  },
  {
   "cell_type": "code",
   "execution_count": 29,
   "metadata": {},
   "outputs": [
    {
     "data": {
      "text/plain": [
       "array(['Andaman & Nicobar', 'Andhra Pradesh', 'Arunachal Pradesh',\n",
       "       'Assam', 'Bihar', 'Chandigarh', 'Chhattisgarh',\n",
       "       'Dadra and Nagar Haveli and Daman & Diu', 'Delhi', 'Goa',\n",
       "       'Gujarat', 'Haryana', 'Himachal Pradesh', 'Jammu & Kashmir',\n",
       "       'Jharkhand', 'Karnataka', 'Kerala', 'Ladakh', 'Lakshadweep',\n",
       "       'Madhya Pradesh', 'Maharashtra', 'Manipur', 'Meghalaya', 'Mizoram',\n",
       "       'Nagaland', 'Odisha', 'Puducherry', 'Punjab', 'Rajasthan',\n",
       "       'Sikkim', 'Tamil Nadu', 'Telangana', 'Tripura', 'Uttar Pradesh',\n",
       "       'Uttarakhand', 'West Bengal'], dtype=object)"
      ]
     },
     "execution_count": 29,
     "metadata": {},
     "output_type": "execute_result"
    }
   ],
   "source": [
    "Map_ins['States'].unique()"
   ]
  },
  {
   "cell_type": "markdown",
   "metadata": {},
   "source": [
    "MAp trans"
   ]
  },
  {
   "cell_type": "code",
   "execution_count": 31,
   "metadata": {},
   "outputs": [],
   "source": [
    "# map trans file\n",
    "\n",
    "map_trans_path='C:/Users/Krithika J/OneDrive/Tài liệu/ds proj/youtube_proj/Phonepe_Proj/pulse/data/map/transaction/hover/country/india/state/'\n",
    "\n",
    "map_trans_list=os.listdir(map_trans_path)\n",
    "\n",
    "col_map_2={'States':[],'Year':[],'Quarter':[],'District':[],'Transaction_Count':[],'Transaction_Amount':[]   }\n",
    "\n",
    "for states in map_trans_list:\n",
    "    curr_state=map_trans_path+states+'/'\n",
    "    map_state_list=os.listdir(curr_state)\n",
    "\n",
    "    for year in map_state_list:\n",
    "        curr_year=curr_state+year+'/'\n",
    "        map_year_list=os.listdir(curr_year)\n",
    "\n",
    "        for file in map_year_list:\n",
    "            curr_file=curr_year+file\n",
    "            data=open(curr_file,'r')\n",
    "\n",
    "            Map2=json.load(data)\n",
    "\n",
    "            for i in Map2['data']['hoverDataList']:\n",
    "                name=i['name']\n",
    "                count = i[\"metric\"][0][\"count\"]\n",
    "                amount = i[\"metric\"][0][\"amount\"]\n",
    "                col_map_2[\"District\"].append(name)\n",
    "                col_map_2[\"Transaction_Count\"].append(count)\n",
    "                col_map_2[\"Transaction_Amount\"].append(amount)\n",
    "                col_map_2[\"States\"].append(states)\n",
    "                col_map_2[\"Year\"].append(year)\n",
    "                col_map_2[\"Quarter\"].append(int(file.strip(\".json\")))\n",
    "\n",
    "            Map_trans=pd.DataFrame(col_map_2)\n",
    "\n",
    "            Map_trans['States']= Map_trans['States'].str.replace('andaman-&-nicobar-islands','Andaman & Nicobar')\n",
    "            Map_trans['States']=Map_trans['States'].str.replace('-', ' ')\n",
    "            Map_trans['States']=Map_trans['States'].str.title()\n",
    "            Map_trans['States']=Map_trans['States'].str.replace('Dadra & Nagar Haveli & Daman & Diu','Dadra and Nagar Haveli and Daman & Diu')\n",
    "\n",
    "          \n"
   ]
  },
  {
   "cell_type": "code",
   "execution_count": 32,
   "metadata": {},
   "outputs": [
    {
     "data": {
      "text/plain": [
       "array(['Andaman & Nicobar', 'Andhra Pradesh', 'Arunachal Pradesh',\n",
       "       'Assam', 'Bihar', 'Chandigarh', 'Chhattisgarh',\n",
       "       'Dadra and Nagar Haveli and Daman & Diu', 'Delhi', 'Goa',\n",
       "       'Gujarat', 'Haryana', 'Himachal Pradesh', 'Jammu & Kashmir',\n",
       "       'Jharkhand', 'Karnataka', 'Kerala', 'Ladakh', 'Lakshadweep',\n",
       "       'Madhya Pradesh', 'Maharashtra', 'Manipur', 'Meghalaya', 'Mizoram',\n",
       "       'Nagaland', 'Odisha', 'Puducherry', 'Punjab', 'Rajasthan',\n",
       "       'Sikkim', 'Tamil Nadu', 'Telangana', 'Tripura', 'Uttar Pradesh',\n",
       "       'Uttarakhand', 'West Bengal'], dtype=object)"
      ]
     },
     "execution_count": 32,
     "metadata": {},
     "output_type": "execute_result"
    }
   ],
   "source": [
    "Map_trans['States'].unique()"
   ]
  },
  {
   "cell_type": "markdown",
   "metadata": {},
   "source": [
    "Map user"
   ]
  },
  {
   "cell_type": "code",
   "execution_count": 34,
   "metadata": {},
   "outputs": [],
   "source": [
    "# map user file\n",
    "\n",
    "map_user_path='C:/Users/Krithika J/OneDrive/Tài liệu/ds proj/youtube_proj/Phonepe_Proj/pulse/data/map/user/hover/country/india/state/'\n",
    "\n",
    "map_user_list=os.listdir(map_user_path)\n",
    "\n",
    "col_map_3={'States':[],'Year':[],'Quarter':[],'District':[],'Registered_User':[],'App_Opens':[]   }\n",
    "\n",
    "for states in map_user_list:\n",
    "    curr_state=map_user_path+states+'/'\n",
    "    map_state_list=os.listdir(curr_state)\n",
    "\n",
    "    for year in map_state_list:\n",
    "        curr_year=curr_state+year+'/'\n",
    "        map_year_list=os.listdir(curr_year)\n",
    "\n",
    "        for file in map_year_list:\n",
    "            curr_file=curr_year+file\n",
    "            data=open(curr_file,'r')\n",
    "\n",
    "            Map3=json.load(data)\n",
    "\n",
    "            for i in Map3[\"data\"][\"hoverData\"].items():\n",
    "                district = i[0]\n",
    "                registereduser = i[1][\"registeredUsers\"]\n",
    "                appopens = i[1][\"appOpens\"]\n",
    "                col_map_3[\"District\"].append(district)\n",
    "                col_map_3[\"Registered_User\"].append(registereduser)\n",
    "                col_map_3[\"App_Opens\"].append(appopens)\n",
    "                col_map_3[\"States\"].append(states)\n",
    "                col_map_3[\"Year\"].append(year)\n",
    "                col_map_3[\"Quarter\"].append(int(file.strip(\".json\")))\n",
    "\n",
    "            Map_user=pd.DataFrame(col_map_3)\n",
    "\n",
    "            Map_user['States']= Map_user['States'].str.replace('andaman-&-nicobar-islands','Andaman & Nicobar')\n",
    "            Map_user['States']=Map_user['States'].str.replace('-', ' ')\n",
    "            Map_user['States']=Map_user['States'].str.title()\n",
    "            Map_user['States']=Map_user['States'].str.replace('Dadra & Nagar Haveli & Daman & Diu','Dadra and Nagar Haveli and Daman & Diu')\n"
   ]
  },
  {
   "cell_type": "code",
   "execution_count": 35,
   "metadata": {},
   "outputs": [
    {
     "data": {
      "text/plain": [
       "array(['Andaman & Nicobar', 'Andhra Pradesh', 'Arunachal Pradesh',\n",
       "       'Assam', 'Bihar', 'Chandigarh', 'Chhattisgarh',\n",
       "       'Dadra and Nagar Haveli and Daman & Diu', 'Delhi', 'Goa',\n",
       "       'Gujarat', 'Haryana', 'Himachal Pradesh', 'Jammu & Kashmir',\n",
       "       'Jharkhand', 'Karnataka', 'Kerala', 'Ladakh', 'Lakshadweep',\n",
       "       'Madhya Pradesh', 'Maharashtra', 'Manipur', 'Meghalaya', 'Mizoram',\n",
       "       'Nagaland', 'Odisha', 'Puducherry', 'Punjab', 'Rajasthan',\n",
       "       'Sikkim', 'Tamil Nadu', 'Telangana', 'Tripura', 'Uttar Pradesh',\n",
       "       'Uttarakhand', 'West Bengal'], dtype=object)"
      ]
     },
     "execution_count": 35,
     "metadata": {},
     "output_type": "execute_result"
    }
   ],
   "source": [
    "Map_user['States'].unique()"
   ]
  },
  {
   "cell_type": "markdown",
   "metadata": {},
   "source": [
    "Replace /"
   ]
  },
  {
   "cell_type": "code",
   "execution_count": 10,
   "metadata": {},
   "outputs": [
    {
     "name": "stdout",
     "output_type": "stream",
     "text": [
      "C:/Users/Krithika J/OneDrive/Tài liệu/ds proj/youtube_proj/Phonepe_Proj/pulse/data/top/user/country/india/state/\n"
     ]
    }
   ],
   "source": [
    "A = r\"C:\\Users\\Krithika J\\OneDrive\\Tài liệu\\ds proj\\youtube_proj\\Phonepe_Proj\\pulse\\data\\top\\user\\country\\india\\state/\"\n",
    "a = A.replace(\"\\\\\", \"/\")\n",
    "print(a)\n"
   ]
  },
  {
   "cell_type": "markdown",
   "metadata": {},
   "source": [
    "Top Ins"
   ]
  },
  {
   "cell_type": "code",
   "execution_count": 67,
   "metadata": {},
   "outputs": [],
   "source": [
    "# map ins file\n",
    "\n",
    "top_ins_path='C:/Users/Krithika J/OneDrive/Tài liệu/ds proj/youtube_proj/Phonepe_Proj/pulse/data/top/insurance/country/india/state/'\n",
    "top_ins_list=os.listdir(top_ins_path)\n",
    "\n",
    "col_top_1={'States':[],'Year':[],'Quarter':[],'Pincode':[],'Insurance_Count':[],'Insurance_Amount':[]   }\n",
    "\n",
    "for states in top_ins_list:\n",
    "    curr_state=top_ins_path+states+'/'\n",
    "    top_state_list=os.listdir(curr_state)\n",
    "\n",
    "    for year in top_state_list:\n",
    "        curr_year=curr_state+year+'/'\n",
    "        top_year_list=os.listdir(curr_year)\n",
    "\n",
    "        for file in top_year_list:\n",
    "            curr_file=curr_year+file\n",
    "            data=open(curr_file,'r')\n",
    "\n",
    "            Top1=json.load(data)\n",
    "\n",
    "            for i in Top1[\"data\"][\"pincodes\"]:\n",
    "                entityName = i[\"entityName\"]\n",
    "                count = i[\"metric\"][\"count\"]\n",
    "                amount = i[\"metric\"][\"amount\"]\n",
    "                col_top_1[\"Pincode\"].append(entityName)\n",
    "                col_top_1[\"Insurance_Count\"].append(count)\n",
    "                col_top_1[\"Insurance_Amount\"].append(amount)\n",
    "                col_top_1[\"States\"].append(states)\n",
    "                col_top_1[\"Year\"].append(year)\n",
    "                col_top_1[\"Quarter\"].append(int(file.strip(\".json\")))\n",
    "\n",
    "            Top_ins=pd.DataFrame(col_top_1)\n",
    "\n",
    "            Top_ins['States']= Top_ins['States'].str.replace('andaman-&-nicobar-islands','Andaman & Nicobar')\n",
    "            Top_ins['States']=Top_ins['States'].str.replace('-', ' ')\n",
    "            Top_ins['States']=Top_ins['States'].str.title()\n",
    "            Top_ins['States']=Top_ins['States'].str.replace('Dadra & Nagar Haveli & Daman & Diu','Dadra and Nagar Haveli and Daman & Diu')"
   ]
  },
  {
   "cell_type": "code",
   "execution_count": 37,
   "metadata": {},
   "outputs": [
    {
     "data": {
      "text/plain": [
       "array(['Andaman & Nicobar', 'Andhra Pradesh', 'Arunachal Pradesh',\n",
       "       'Assam', 'Bihar', 'Chandigarh', 'Chhattisgarh',\n",
       "       'Dadra and Nagar Haveli and Daman & Diu', 'Delhi', 'Goa',\n",
       "       'Gujarat', 'Haryana', 'Himachal Pradesh', 'Jammu & Kashmir',\n",
       "       'Jharkhand', 'Karnataka', 'Kerala', 'Ladakh', 'Lakshadweep',\n",
       "       'Madhya Pradesh', 'Maharashtra', 'Manipur', 'Meghalaya', 'Mizoram',\n",
       "       'Nagaland', 'Odisha', 'Puducherry', 'Punjab', 'Rajasthan',\n",
       "       'Sikkim', 'Tamil Nadu', 'Telangana', 'Tripura', 'Uttar Pradesh',\n",
       "       'Uttarakhand', 'West Bengal'], dtype=object)"
      ]
     },
     "execution_count": 37,
     "metadata": {},
     "output_type": "execute_result"
    }
   ],
   "source": [
    "Top_ins['States'].unique()"
   ]
  },
  {
   "cell_type": "markdown",
   "metadata": {},
   "source": [
    "Top Trans"
   ]
  },
  {
   "cell_type": "code",
   "execution_count": 71,
   "metadata": {},
   "outputs": [],
   "source": [
    "# top trans file\n",
    "\n",
    "top_trans_path='C:/Users/Krithika J/OneDrive/Tài liệu/ds proj/youtube_proj/Phonepe_Proj/pulse/data/top/transaction/country/india/state/'\n",
    "\n",
    "top_trans_list=os.listdir(top_trans_path)\n",
    "\n",
    "col_top_2={'States':[],'Year':[],'Quarter':[],'Pincode':[],'Transaction_Count':[],'Transaction_Amount':[]   }\n",
    "\n",
    "for states in top_trans_list:\n",
    "    curr_state=top_trans_path+states+'/'\n",
    "    top_state_list=os.listdir(curr_state)\n",
    "\n",
    "    for year in top_state_list:\n",
    "        curr_year=curr_state+year+'/'\n",
    "        top_year_list=os.listdir(curr_year)\n",
    "\n",
    "        for file in top_year_list:\n",
    "            curr_file=curr_year+file\n",
    "            data=open(curr_file,'r')\n",
    "\n",
    "            Top2=json.load(data)\n",
    "\n",
    "            for i in Top2[\"data\"][\"pincodes\"]:\n",
    "                entityName = i[\"entityName\"]\n",
    "                count = i[\"metric\"][\"count\"]\n",
    "                amount = i[\"metric\"][\"amount\"]\n",
    "                col_top_2[\"Pincode\"].append(entityName)\n",
    "                col_top_2[\"Transaction_Count\"].append(count)\n",
    "                col_top_2[\"Transaction_Amount\"].append(amount)\n",
    "                col_top_2[\"States\"].append(states)\n",
    "                col_top_2[\"Year\"].append(year)\n",
    "                col_top_2[\"Quarter\"].append(int(file.strip(\".json\")))\n",
    "\n",
    "            Top_trans=pd.DataFrame(col_top_2)\n",
    "\n",
    "            Top_trans['States']= Top_trans['States'].str.replace('andaman-&-nicobar-islands','Andaman & Nicobar')\n",
    "            Top_trans['States']=Top_trans['States'].str.replace('-', ' ')\n",
    "            Top_trans['States']=Top_trans['States'].str.title()\n",
    "            Top_trans['States']=Top_trans['States'].str.replace('Dadra & Nagar Haveli & Daman & Diu','Dadra and Nagar Haveli and Daman & Diu')           "
   ]
  },
  {
   "cell_type": "code",
   "execution_count": 39,
   "metadata": {},
   "outputs": [
    {
     "data": {
      "text/plain": [
       "array(['Andaman & Nicobar', 'Andhra Pradesh', 'Arunachal Pradesh',\n",
       "       'Assam', 'Bihar', 'Chandigarh', 'Chhattisgarh',\n",
       "       'Dadra and Nagar Haveli and Daman & Diu', 'Delhi', 'Goa',\n",
       "       'Gujarat', 'Haryana', 'Himachal Pradesh', 'Jammu & Kashmir',\n",
       "       'Jharkhand', 'Karnataka', 'Kerala', 'Ladakh', 'Lakshadweep',\n",
       "       'Madhya Pradesh', 'Maharashtra', 'Manipur', 'Meghalaya', 'Mizoram',\n",
       "       'Nagaland', 'Odisha', 'Puducherry', 'Punjab', 'Rajasthan',\n",
       "       'Sikkim', 'Tamil Nadu', 'Telangana', 'Tripura', 'Uttar Pradesh',\n",
       "       'Uttarakhand', 'West Bengal'], dtype=object)"
      ]
     },
     "execution_count": 39,
     "metadata": {},
     "output_type": "execute_result"
    }
   ],
   "source": [
    "Top_trans['States'].unique()"
   ]
  },
  {
   "cell_type": "markdown",
   "metadata": {},
   "source": [
    "Top User"
   ]
  },
  {
   "cell_type": "code",
   "execution_count": 75,
   "metadata": {},
   "outputs": [],
   "source": [
    "# top user file\n",
    "\n",
    "top_user_path='C:/Users/Krithika J/OneDrive/Tài liệu/ds proj/youtube_proj/Phonepe_Proj/pulse/data/top/user/country/india/state/'\n",
    "\n",
    "top_user_list=os.listdir(top_user_path)\n",
    "\n",
    "col_top_3={'States':[],'Year':[],'Quarter':[],'Pincode':[],'Registered_User':[]   }\n",
    "\n",
    "for states in top_user_list:\n",
    "    curr_state=top_user_path+states+'/'\n",
    "    top_state_list=os.listdir(curr_state)\n",
    "\n",
    "    for year in top_state_list:\n",
    "        curr_year=curr_state+year+'/'\n",
    "        top_year_list=os.listdir(curr_year)\n",
    "\n",
    "        for file in top_year_list:\n",
    "            curr_file=curr_year+file\n",
    "            data=open(curr_file,'r')\n",
    "\n",
    "            Top3=json.load(data)\n",
    "\n",
    "            for i in Top3[\"data\"][\"pincodes\"]:\n",
    "                name = i[\"name\"]\n",
    "                registeredusers = i[\"registeredUsers\"]\n",
    "                col_top_3[\"Pincode\"].append(name)\n",
    "                col_top_3[\"Registered_User\"].append(registereduser)\n",
    "                col_top_3[\"States\"].append(states)\n",
    "                col_top_3[\"Year\"].append(year)\n",
    "                col_top_3[\"Quarter\"].append(int(file.strip(\".json\")))\n",
    "\n",
    "            Top_user=pd.DataFrame(col_top_3)\n",
    "\n",
    "            Top_user['States']= Top_user['States'].str.replace('andaman-&-nicobar-islands','Andaman & Nicobar')\n",
    "            Top_user['States']=Top_user['States'].str.replace('-', ' ')\n",
    "            Top_user['States']=Top_user['States'].str.title()\n",
    "            Top_user['States']=Top_user['States'].str.replace('Dadra & Nagar Haveli & Daman & Diu','Dadra and Nagar Haveli and Daman & Diu')"
   ]
  },
  {
   "cell_type": "code",
   "execution_count": 41,
   "metadata": {},
   "outputs": [
    {
     "data": {
      "text/plain": [
       "array(['Andaman & Nicobar', 'Andhra Pradesh', 'Arunachal Pradesh',\n",
       "       'Assam', 'Bihar', 'Chandigarh', 'Chhattisgarh',\n",
       "       'Dadra and Nagar Haveli and Daman & Diu', 'Delhi', 'Goa',\n",
       "       'Gujarat', 'Haryana', 'Himachal Pradesh', 'Jammu & Kashmir',\n",
       "       'Jharkhand', 'Karnataka', 'Kerala', 'Ladakh', 'Lakshadweep',\n",
       "       'Madhya Pradesh', 'Maharashtra', 'Manipur', 'Meghalaya', 'Mizoram',\n",
       "       'Nagaland', 'Odisha', 'Puducherry', 'Punjab', 'Rajasthan',\n",
       "       'Sikkim', 'Tamil Nadu', 'Telangana', 'Tripura', 'Uttar Pradesh',\n",
       "       'Uttarakhand', 'West Bengal'], dtype=object)"
      ]
     },
     "execution_count": 41,
     "metadata": {},
     "output_type": "execute_result"
    }
   ],
   "source": [
    "Top_user['States'].unique()"
   ]
  },
  {
   "cell_type": "markdown",
   "metadata": {},
   "source": [
    "SQL Creation-Agg"
   ]
  },
  {
   "cell_type": "code",
   "execution_count": 62,
   "metadata": {},
   "outputs": [],
   "source": [
    "# Table creation\n",
    "\n",
    "# SQL Connection\n",
    "\n",
    "mydb = psycopg2.connect(\n",
    "    host=\"localhost\",\n",
    "    user=\"postgres\",\n",
    "    password=\"Guvi2024\",\n",
    "    database=\"Phonepe_Data\",\n",
    "    port=5432\n",
    ")\n",
    "cursor = mydb.cursor()\n",
    "\n",
    "# Agg ins\n",
    "create_query1= '''CREATE TABLE if not exists aggregated_insurance (States varchar(50),\n",
    "                                                                      Year int,\n",
    "                                                                      Quarter int,\n",
    "                                                                      Insurance_Method varchar(50),\n",
    "                                                                      Insurance_Count bigint,\n",
    "                                                                      Insurance_Amount bigint\n",
    "                                                                      )'''\n",
    "cursor.execute(create_query1)\n",
    "mydb.commit()\n",
    "\n",
    "for index,row in Agg_ins.iterrows():\n",
    "    insert_query1 = '''INSERT INTO aggregated_insurance (States, Year, Quarter, Insurance_Method, Insurance_Count, Insurance_Amount)\n",
    "                                                        values(%s,%s,%s,%s,%s,%s)'''\n",
    "    values = (row[\"States\"],\n",
    "              row[\"Year\"],\n",
    "              row[\"Quarter\"],\n",
    "              row[\"Insurance_Method\"],\n",
    "              row[\"Insurance_Count\"],\n",
    "              row[\"Insurance_Amount\"]\n",
    "              )\n",
    "    cursor.execute(insert_query1,values)\n",
    "    mydb.commit()\n",
    "\n",
    "# Agg trans\n",
    "create_query2 = '''CREATE TABLE if not exists aggregated_transaction (States varchar(50),\n",
    "                                                                      Year int,\n",
    "                                                                      Quarter int,\n",
    "                                                                      Transaction_Method varchar(50),\n",
    "                                                                      Transaction_Count bigint,\n",
    "                                                                      Transaction_Amount bigint\n",
    "                                                                      )'''\n",
    "cursor.execute(create_query2)\n",
    "mydb.commit()\n",
    "\n",
    "for index,row in Agg_trans.iterrows():\n",
    "    insert_query2 = '''INSERT INTO aggregated_transaction (States, Year, Quarter, Transaction_Method, Transaction_Count, Transaction_Amount)\n",
    "                                                        values(%s,%s,%s,%s,%s,%s)'''\n",
    "    values = (row[\"States\"],\n",
    "              row[\"Year\"],\n",
    "              row[\"Quarter\"],\n",
    "              row[\"Transaction_Method\"],\n",
    "              row[\"Transaction_Count\"],\n",
    "              row[\"Transaction_Amount\"]\n",
    "              )\n",
    "    cursor.execute(insert_query2,values)\n",
    "    mydb.commit()\n",
    "\n",
    "# Agg user\n",
    "create_query3 = '''CREATE TABLE if not exists aggregated_user (States varchar(50),\n",
    "                                                                Year int,\n",
    "                                                                Quarter int,\n",
    "                                                                Brands varchar(50),\n",
    "                                                                User_Count bigint,\n",
    "                                                                Percentage float)'''\n",
    "cursor.execute(create_query3)\n",
    "mydb.commit()\n",
    "\n",
    "for index,row in Agg_user.iterrows():\n",
    "    insert_query3 = '''INSERT INTO aggregated_user (States, Year, Quarter, Brands, User_Count, Percentage)\n",
    "                                                    values(%s,%s,%s,%s,%s,%s)'''\n",
    "    values = (row[\"States\"],\n",
    "              row[\"Year\"],\n",
    "              row[\"Quarter\"],\n",
    "              row[\"Brands\"],\n",
    "              row[\"User_Count\"],\n",
    "              row[\"Percentage\"])\n",
    "    cursor.execute(insert_query3,values)\n",
    "    mydb.commit()\n",
    "\n"
   ]
  },
  {
   "cell_type": "markdown",
   "metadata": {},
   "source": [
    "SQL-map"
   ]
  },
  {
   "cell_type": "code",
   "execution_count": 65,
   "metadata": {},
   "outputs": [],
   "source": [
    "# Table creation\n",
    "\n",
    "# SQL Connection\n",
    "\n",
    "mydb = psycopg2.connect(\n",
    "    host=\"localhost\",\n",
    "    user=\"postgres\",\n",
    "    password=\"Guvi2024\",\n",
    "    database=\"Phonepe_Data\",\n",
    "    port=5432\n",
    ")\n",
    "cursor = mydb.cursor()\n",
    "\n",
    "# Map ins\n",
    "create_query4= '''CREATE TABLE if not exists map_insurance (States varchar(50),\n",
    "                                                                      Year int,\n",
    "                                                                      Quarter int,\n",
    "                                                                      District varchar(50),\n",
    "                                                                      Insurance_Count bigint,\n",
    "                                                                      Insurance_Amount bigint\n",
    "                                                                      )'''\n",
    "cursor.execute(create_query4)\n",
    "mydb.commit()\n",
    "\n",
    "for index,row in Map_ins.iterrows():\n",
    "    insert_query4 = '''INSERT INTO map_insurance (States, Year, Quarter, District, Insurance_Count, Insurance_Amount)\n",
    "                                                        values(%s,%s,%s,%s,%s,%s)'''\n",
    "    values = (row[\"States\"],\n",
    "              row[\"Year\"],\n",
    "              row[\"Quarter\"],\n",
    "              row[\"District\"],\n",
    "              row[\"Insurance_Count\"],\n",
    "              row[\"Insurance_Amount\"]\n",
    "              )\n",
    "    cursor.execute(insert_query4,values)\n",
    "    mydb.commit()\n",
    "\n",
    "# Map trans\n",
    "create_query5 = '''CREATE TABLE if not exists map_transaction (States varchar(50),\n",
    "                                                                      Year int,\n",
    "                                                                      Quarter int,\n",
    "                                                                      District varchar(50),\n",
    "                                                                      Transaction_Count bigint,\n",
    "                                                                      Transaction_Amount bigint\n",
    "                                                                      )'''\n",
    "cursor.execute(create_query5)\n",
    "mydb.commit()\n",
    "\n",
    "for index,row in Map_trans.iterrows():\n",
    "    insert_query5 = '''INSERT INTO map_transaction (States, Year, Quarter, District, Transaction_Count, Transaction_Amount)\n",
    "                                                        values(%s,%s,%s,%s,%s,%s)'''\n",
    "    values = (row[\"States\"],\n",
    "              row[\"Year\"],\n",
    "              row[\"Quarter\"],\n",
    "              row[\"District\"],\n",
    "              row[\"Transaction_Count\"],\n",
    "              row[\"Transaction_Amount\"]\n",
    "              )\n",
    "    cursor.execute(insert_query5,values)\n",
    "    mydb.commit()\n",
    "\n",
    "# Map user\n",
    "create_query6 = '''CREATE TABLE if not exists map_user (States varchar(50),\n",
    "                                                                Year int,\n",
    "                                                                Quarter int,\n",
    "                                                                District varchar(50),\n",
    "                                                                Registered_User bigint,\n",
    "                                                                App_Opens float)'''\n",
    "cursor.execute(create_query6)\n",
    "mydb.commit()\n",
    "\n",
    "for index,row in Map_user.iterrows():\n",
    "    insert_query6 = '''INSERT INTO map_user (States, Year, Quarter, District, Registered_User, App_Opens)\n",
    "                                                    values(%s,%s,%s,%s,%s,%s)'''\n",
    "    values = (row[\"States\"],\n",
    "              row[\"Year\"],\n",
    "              row[\"Quarter\"],\n",
    "              row[\"District\"],\n",
    "              row[\"Registered_User\"],\n",
    "              row[\"App_Opens\"])\n",
    "    cursor.execute(insert_query6,values)\n",
    "    mydb.commit()\n",
    "\n"
   ]
  },
  {
   "cell_type": "markdown",
   "metadata": {},
   "source": [
    "SQL-Top"
   ]
  },
  {
   "cell_type": "code",
   "execution_count": 76,
   "metadata": {},
   "outputs": [],
   "source": [
    "# Table creation\n",
    "\n",
    "# SQL Connection\n",
    "\n",
    "mydb = psycopg2.connect(\n",
    "    host=\"localhost\",\n",
    "    user=\"postgres\",\n",
    "    password=\"Guvi2024\",\n",
    "    database=\"Phonepe_Data\",\n",
    "    port=5432\n",
    ")\n",
    "cursor = mydb.cursor()\n",
    "\n",
    "# Top ins\n",
    "create_query7= '''CREATE TABLE if not exists top_insurance (States varchar(50),\n",
    "                                                                      Year int,\n",
    "                                                                      Quarter int,\n",
    "                                                                      Pincode int,\n",
    "                                                                      Insurance_Count bigint,\n",
    "                                                                      Insurance_Amount bigint\n",
    "                                                                      )'''\n",
    "cursor.execute(create_query7)\n",
    "mydb.commit()\n",
    "\n",
    "for index,row in Top_ins.iterrows():\n",
    "    insert_query7 = '''INSERT INTO top_insurance (States, Year, Quarter, Pincode, Insurance_Count, Insurance_Amount)\n",
    "                                                        values(%s,%s,%s,%s,%s,%s)'''\n",
    "    values = (row[\"States\"],\n",
    "              row[\"Year\"],\n",
    "              row[\"Quarter\"],\n",
    "              row[\"Pincode\"],\n",
    "              row[\"Insurance_Count\"],\n",
    "              row[\"Insurance_Amount\"]\n",
    "              )\n",
    "    cursor.execute(insert_query7,values)\n",
    "    mydb.commit()\n",
    "\n",
    "# Map trans\n",
    "create_query8 = '''CREATE TABLE if not exists top_transaction (States varchar(50),\n",
    "                                                                      Year int,\n",
    "                                                                      Quarter int,\n",
    "                                                                      Pincode int,\n",
    "                                                                      Transaction_Count bigint,\n",
    "                                                                      Transaction_Amount bigint\n",
    "                                                                      )'''\n",
    "cursor.execute(create_query8)\n",
    "mydb.commit()\n",
    "\n",
    "for index,row in Top_trans.iterrows():\n",
    "    insert_query8 = '''INSERT INTO top_transaction (States, Year, Quarter, Pincode, Transaction_Count, Transaction_Amount)\n",
    "                                                        values(%s,%s,%s,%s,%s,%s)'''\n",
    "    values = (row[\"States\"],\n",
    "              row[\"Year\"],\n",
    "              row[\"Quarter\"],\n",
    "              row[\"Pincode\"],\n",
    "              row[\"Transaction_Count\"],\n",
    "              row[\"Transaction_Amount\"]\n",
    "              )\n",
    "    cursor.execute(insert_query8,values)\n",
    "    mydb.commit()\n",
    "\n",
    "# Map user\n",
    "create_query9 = '''CREATE TABLE if not exists top_user (States varchar(50),\n",
    "                                                                Year int,\n",
    "                                                                Quarter int,\n",
    "                                                                Pincode int,\n",
    "                                                                Registered_User bigint\n",
    "                                                                )'''\n",
    "cursor.execute(create_query9)\n",
    "mydb.commit()\n",
    "\n",
    "for index,row in Top_user.iterrows():\n",
    "    insert_query9 = '''INSERT INTO top_user (States, Year, Quarter, Pincode, Registered_User)\n",
    "                                                    values(%s,%s,%s,%s,%s)'''\n",
    "    values = (row[\"States\"],\n",
    "              row[\"Year\"],\n",
    "              row[\"Quarter\"],\n",
    "              row[\"Pincode\"],\n",
    "              row[\"Registered_User\"])\n",
    "             \n",
    "    cursor.execute(insert_query9,values)\n",
    "    mydb.commit()\n",
    "\n"
   ]
  }
 ],
 "metadata": {
  "kernelspec": {
   "display_name": ".venv",
   "language": "python",
   "name": "python3"
  },
  "language_info": {
   "codemirror_mode": {
    "name": "ipython",
    "version": 3
   },
   "file_extension": ".py",
   "mimetype": "text/x-python",
   "name": "python",
   "nbconvert_exporter": "python",
   "pygments_lexer": "ipython3",
   "version": "3.12.2"
  }
 },
 "nbformat": 4,
 "nbformat_minor": 2
}
